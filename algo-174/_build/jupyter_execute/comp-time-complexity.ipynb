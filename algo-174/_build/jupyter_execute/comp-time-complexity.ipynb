{
 "cells": [
  {
   "cell_type": "markdown",
   "metadata": {},
   "source": [
    "# Computing Time Complexity\n",
    "\n",
    "Computing the time complexity of algorithms can be challenging. Understanding and analyzing the time complexity is crucial for evaluating the efficiency of algorithms. Several methods are available to compute and solve recurrences, which help in determining the time complexity of recursive algorithms. In this section, we will briefly explain some commonly used methods and give some examples to sharpen our intuition.\n",
    "\n",
    "Let's focus on some examples and rules that can help determine the running time of an algorithm."
   ]
  },
  {
   "cell_type": "markdown",
   "metadata": {},
   "source": [
    "<u><i>Examples:</i></u>\n",
    "\n",
    "- **Loops**: The total running time is the product of the running time of the statements inside the loop and the number of iterations. In general, this results in $O(n)$.\n"
   ]
  },
  {
   "cell_type": "code",
   "execution_count": 1,
   "metadata": {},
   "outputs": [],
   "source": [
    "def simple_loop(n):\n",
    "    for i in range(n):\n",
    "        print(\"•\")  # This statement runs n times"
   ]
  },
  {
   "cell_type": "markdown",
   "metadata": {},
   "source": [
    "- **Nested Loops**: The total running time is the product of the sizes of all the loops. For two nested loops, $T(n) = c \\cdot n \\cdot n = cn^2 = O(n^2)$."
   ]
  },
  {
   "cell_type": "code",
   "execution_count": 2,
   "metadata": {},
   "outputs": [],
   "source": [
    "def nested_loops(n):\n",
    "    for i in range(n):\n",
    "        for j in range(n):\n",
    "            print(\"•\")  # This statement runs n * n times"
   ]
  },
  {
   "cell_type": "markdown",
   "metadata": {},
   "source": [
    "- **Consecutive Statements**: Add the time complexity of each statement. Look at the pseudocode in Algorithm, we have $T(n) = c + cn + cn^2 = O(n^2)$."
   ]
  },
  {
   "cell_type": "code",
   "execution_count": 3,
   "metadata": {},
   "outputs": [],
   "source": [
    "def consecutive_statements_example(n):\n",
    "    # Step 1\n",
    "    print(\"•\")  # Time Complexity: c\n",
    "    # Step 2\n",
    "    for i in range(n + 1):\n",
    "        print(\"•\")  # Time Complexity: cn\n",
    "        # Step 3\n",
    "        for j in range(n + 1):\n",
    "            print(\"•\")  # Time Complexity: cn^2"
   ]
  },
  {
   "cell_type": "markdown",
   "metadata": {},
   "source": [
    "- **If-Then-Else**: The total running time will be based on the test plus the larger of either part of the if/else. Look at Algorithm. We can see that $T(n) = c + cn = O(n)$."
   ]
  },
  {
   "cell_type": "code",
   "execution_count": 4,
   "metadata": {},
   "outputs": [],
   "source": [
    "def if_then_else_example(n):\n",
    "    # Step 1\n",
    "    print(\"•\")  # Time Complexity: c\n",
    "\n",
    "    # Step 2\n",
    "    if n == 1:\n",
    "        print(\"•\")  # Time Complexity: c\n",
    "    else:\n",
    "        # Step 3\n",
    "        for i in range(n + 1):\n",
    "            print(\"•\")  # Time Complexity: cn"
   ]
  },
  {
   "cell_type": "markdown",
   "metadata": {},
   "source": [
    "<u><i>Tricky Example:</i></u>\n",
    "\n",
    "Sometimes, <span style=\"background-color: #F9F9E0;\">loops</span>  do not result in $O(n)$ but rather $O(\\log n)$. Consider the example shown below. In this example, the for loop runs $i$ times, but at each iteration, we multiply the value of $i$ by 2. To understand the total running time, consider the following steps:\n",
    "\n",
    "- Iteration 1: $i = 1 \\rightarrow 2^0$\n",
    "- Iteration 2: $i = 2 \\rightarrow 2^1$\n",
    "- Iteration 3: $i = 3 \\rightarrow 2^2$\n",
    "- Iteration 4: $i = 4 \\rightarrow 2^3$\n",
    "- And so on, up to iteration k: $i = n \\rightarrow 2^{k-1}$\n",
    "\n",
    "Then, we can obtain a relation between $k$ and $n$.\n",
    "\n",
    "$$n = 2^{k-1} \\implies \\log(n) = k - 1 \\implies k = \\log(n) + 1$$\n",
    "\n",
    "Thus, we have $O(\\log n)$ as the time complexity since $i$ is not growing linearly, but exponentially."
   ]
  },
  {
   "cell_type": "code",
   "execution_count": 5,
   "metadata": {},
   "outputs": [],
   "source": [
    "def tricky_for_loop(n):\n",
    "    i = 1\n",
    "    while i <= n:\n",
    "        print(\"•\")  # Comment: O(log i)\n",
    "        i *= 2"
   ]
  },
  {
   "cell_type": "markdown",
   "metadata": {},
   "source": [
    "<style>\n",
    "table tr:hover {\n",
    "    background-color: #FFC0D9 !important;\n",
    "}\n",
    "</style>\n",
    "\n",
    "## Divide-and-Conquer\n",
    "\n",
    "Before diving into each method for solving the time complexity problem, let's first understand a strategy called \"<span style=\"background-color: #F9F9E0;\">divide-and-conquer</span>,\" which is very common in algorithms.\n",
    "\n",
    "*Divide-and-conquer* is a technique where a problem is divided into smaller subproblems that are similar to the original problem but smaller in size. These subproblems are solved <span style=\"background-color: #F9F9E0;\">independently</span>, and their solutions are combined to solve the original problem. This approach is particularly effective for problems that can be naturally divided into independent subproblems, leading to efficient recursive algorithms. Examples of divide-and-conquer algorithms include Merge Sort and Quick Sort, which use this technique to achieve optimal time complexities.\n",
    "\n",
    "### Recurrences\n",
    "\n",
    "A <span style=\"background-color: #F9F9E0;\">recurrence</span> is an equation or inequality that describes a function in terms of its value on smaller inputs.\n",
    "\n",
    "### The maximum-subarray problem\n",
    "\n",
    "Our goal is to find the subarray which has the largest sum, with the constraint that the subarray must consist of adjacent elements from the original array.\n",
    "\n",
    "#### A brute-force solution\n",
    "\n",
    "For this <span style=\"background-color: #F9F9E0;\">brute force</span> solution let's consider a window size of 2. An array of $n$ items has $\\binom{n}{2}$ such pairs of subarrays. Since $\\binom{n}{2}$ is $\\Theta(n^2)$, and the best we can hope for is to evaluate each pair in constant time, this approach would take $\\Omega(n^2)$ time.\n",
    "\n",
    "### A solution using divide-and-conquer\n",
    "\n",
    "Let's consider the scenario described in the CLRS book. The goal is to determine which subarray maximizes our profit given that we buy stocks when they are cheap and sell them when the price is higher than the purchase cost. We have an array representing the price fluctuations within a given time range and another array representing the price difference (change) every two consecutive days, as shown below\n",
    "\n",
    "\n",
    "| Day | 0   | 1   | 2   | 3   | $\\cdots$ |\n",
    "|-----|-----|-----|-----|-----|----------|\n",
    "| Price | 100 | 113 | 110 | 85  | $\\cdots$ |\n",
    "| Change | -   | 13  | -3  | -25 | $\\cdots$ |"
   ]
  },
  {
   "cell_type": "code",
   "execution_count": 6,
   "metadata": {},
   "outputs": [
    {
     "name": "stdout",
     "output_type": "stream",
     "text": [
      "max_left =  3\n",
      "max_right =  8\n",
      "left_sum + right_sum =  21\n"
     ]
    }
   ],
   "source": [
    "def find_maximum_crossing_subarray(A, low, mid, high):\n",
    "    left_sum = float('-inf')\n",
    "    _sum = 0\n",
    "    max_left = mid\n",
    "\n",
    "    for i in range(mid, low - 1, -1):\n",
    "        _sum += A[i]\n",
    "        if _sum > left_sum:\n",
    "            left_sum = _sum\n",
    "            max_left = i\n",
    "\n",
    "    right_sum = float('-inf')\n",
    "    _sum = 0\n",
    "    max_right = mid + 1\n",
    "\n",
    "    for j in range(mid + 1, high + 1):\n",
    "        _sum += A[j]\n",
    "        if _sum > right_sum:\n",
    "            right_sum = _sum\n",
    "            max_right = j\n",
    "    \n",
    "    return (max_left, max_right, left_sum + right_sum)\n",
    "\n",
    "arr = [-1, -10, -5, 1, 5, 7, 0, -2, 10, -5, -2]\n",
    "max_left, max_right, lr_sum = find_maximum_crossing_subarray(arr, 0, 5, 10)\n",
    "print(\"max_left = \", max_left)\n",
    "print(\"max_right = \", max_right)\n",
    "print(\"left_sum + right_sum = \", lr_sum)"
   ]
  },
  {
   "cell_type": "markdown",
   "metadata": {},
   "source": [
    "![Find Maximum Crossing Subarray Schematic](figures/fmcs.png)\n",
    "\n",
    "_Figure: Find Maximum Crossing Subarray Schematic_\n"
   ]
  },
  {
   "cell_type": "code",
   "execution_count": 7,
   "metadata": {},
   "outputs": [
    {
     "name": "stdout",
     "output_type": "stream",
     "text": [
      "Max left index: 3\n",
      "Max right index: 8\n",
      "Max sum: 21\n"
     ]
    }
   ],
   "source": [
    "def find_maximum_subarray(A, low, high):\n",
    "    # Base case\n",
    "    if high == low:\n",
    "        return (low, high, A[low])\n",
    "    else:\n",
    "        mid = (low + high) // 2\n",
    "        left_low, left_high, left_sum = find_maximum_subarray(A, low, mid)\n",
    "        right_low, right_high, right_sum = find_maximum_subarray(A, mid + 1, high)\n",
    "        cross_low, cross_high, cross_sum = find_maximum_crossing_subarray(A, low, mid, high)\n",
    "\n",
    "        if left_sum >= right_sum and left_sum >= cross_sum:\n",
    "            return (left_low, left_high, left_sum)\n",
    "        elif right_sum >= left_sum and right_sum >= cross_sum:\n",
    "            return (right_low, right_high, right_sum)\n",
    "        else:\n",
    "            return (cross_low, cross_high, cross_sum)\n",
    "\n",
    "# Example usage\n",
    "arr = [-1, -10, -5, 1, 5, 7, 0, -2, 10, -5, -2]\n",
    "low = 0\n",
    "high = len(arr) - 1\n",
    "\n",
    "result = find_maximum_subarray(arr, low, high)\n",
    "print(\"Max left index:\", result[0])\n",
    "print(\"Max right index:\", result[1])\n",
    "print(\"Max sum:\", result[2])"
   ]
  },
  {
   "cell_type": "markdown",
   "metadata": {},
   "source": [
    "![Find Maximum Subarray Tree Schematic](figures/fms_tree.png)\n",
    "\n",
    "_Figure:Find Maximum Subarray Tree Schematic_\n"
   ]
  },
  {
   "cell_type": "markdown",
   "metadata": {},
   "source": [
    "The codes shown above in `find_maximum_subarray` and `find_maximum_crossing_subarray` complement each other. The `find_maximum_subarray` function focuses on the divide and conquer strategy, splitting the problem into smaller parts and solving them. The `find_maximum_crossing_subarray` function, on the other hand, is responsible for calculating the maximum subarray that crosses the midpoint (mid). To analyze the algorithm's complexity, we will use a method known as the recursion tree method. For a visualization on how the algorithm works please refer to the figures above. In addition, refer to the following animation with a step by step illustration:\n",
    "\n",
    "\n",
    "<iframe src=\"https://docs.google.com/presentation/d/e/2PACX-1vQTWvuA0QGKHN6C1A_1XwKx7nwbTjKsVXQomFZycw8Fv87NvVLID4332b-2kXRFf1JM_JOGaMecKn5x/embed?start=false&loop=false&delayms=3000\" frameborder=\"0\" width=\"760\" height=\"456\" allowfullscreen=\"true\" mozallowfullscreen=\"true\" webkitallowfullscreen=\"true\"></iframe>"
   ]
  },
  {
   "cell_type": "markdown",
   "metadata": {},
   "source": [
    "## Analyzing The Algorithm\n",
    "\n",
    "To perform our analysis, let's assume that the original problem size is a power of 2. Denote $T(n)$ as the running time for `find_maximum_subarray` on a subarray of $n$ elements.\n",
    "\n",
    "For the base case, when $n = 1$, we have $T(n) = \\Theta(1)$ (constant time). The recursive case occurs when $n > 1$. Each subproblem is solved on a subarray of $n/2$ elements (our assumption that the original problem size is a power of 2 ensures that $n/2$ is an integer), so we spend $T(n/2)$ time solving each subproblem. Since we solve two subproblems, for the *left* and *right* subarrays, the time spent will be $2T(n/2)$.\n",
    "\n",
    "Next, we need to analyze the time for the `find_maximum_crossing_subarray` function. If the subarray $A[\\text{low} \\cdots \\text{high}]$ contains $n$ entries (so that $n = \\text{high} - \\text{low} + 1$), we claim that `find_maximum_crossing_subarray(A, low, mid, high)` takes $\\Theta(n)$ time. \n",
    "\n",
    "Since each iteration of the two for loops takes $\\Theta(1)$ time, we just need to count how many iterations there are altogether. The first for loop makes $\\text{mid} - \\text{low} + 1$ iterations, and the second makes $\\text{high} - \\text{mid}$ iterations. Thus, the total number of iterations is:\n",
    "\n",
    "$$\n",
    "(\\text{mid} - \\text{low} + 1) + (\\text{high} - \\text{mid}) = \\text{high} - \\text{low} + 1 = n\n",
    "$$\n",
    "\n",
    "Hence, `find_maximum_crossing_subarray` takes linear time, $\\Theta(n)$.\n",
    "\n",
    "Returning to our `find_maximum_subarray` method, the only remaining analysis concerns the if and else conditions, which all take constant time, $\\Theta(1)$. For the recursive case, we have:\n",
    "\n",
    "$$\n",
    "T(n) = \\Theta(1) [\\text{base case}] + 2T(n/2) [\\text{solving subproblems}] + \\Theta(n) [\\text{fmcs}] + \\Theta(1) [\\text{if-else}]\n",
    "$$\n",
    "\n",
    "Where fmcs is `find_maximum_crossing_subarray` and $[\\cdot]$ is the comment from where this function is being considered either `find_maximum_crossing_subarray` or `if-else`. Thus,\n",
    "\n",
    "$$\n",
    "T(n) = 2T(n/2) + \\Theta(n)\n",
    "$$\n",
    "\n",
    "We can express our running time $T(n)$ for *find_maximum_subarray* as:\n",
    "\n",
    "$$\n",
    "T(n) =\n",
    "\\begin{cases}\n",
    "  \\Theta(1), & \\text{if } n = 1 \\\\\n",
    "  2T(n/2) + \\Theta(n), & \\text{if } n > 1\n",
    "\\end{cases}\n",
    "$$\n",
    "\n",
    "We will explore this in more detail in the next section, but a binary tree resulting from $2T(n/2)$ has $\\log n + 1$ levels, and each level costs $cn$ due to $\\Theta(n)$. Therefore,\n",
    "\n",
    "$$\n",
    "T(n) = cn(\\log n + 1) \\implies T(n) = cn\\log n + cn\n",
    "$$\n",
    "\n",
    "Which then becomes,\n",
    "\n",
    "$$\n",
    "T(n) = \\Theta(n\\log n)\n",
    "$$\n",
    "\n",
    "### Why the height of a binary tree is $\\log n$?\n",
    "\n",
    "The height of the recursion tree is $\\log n$ because at each level of the recursion, the problem size is halved. That is, imagine our original problem size is a power of 2. Then\n",
    "\n",
    "1. **Initial Problem Size**: Let's start with a problem size of $n$.\n",
    "2. **First Level**: At the first level of recursion, the problem is divided into two subproblems, each of size $n/2$.\n",
    "3. **Second Level**: Each of these subproblems is further divided into two subproblems, each of size $n/4$.\n",
    "4. **Subsequent Levels**: This process continues, halving the problem size at each level.\n",
    "5. **Base Case**: The recursion continues until the problem size is reduced to 1.\n",
    "\n",
    "The number of levels in this recursion tree is the number of times we can divide $n$ by 2 until we reach 1. This can be expressed as $\\log_2 n$. Formally, if we start with a problem of size $n$ and divide it into halves, the height $h$ of the recursion tree is given by:\n",
    "\n",
    "$$\n",
    "2^{h} = n \\implies h = \\log_2 n\n",
    "$$\n",
    "\n",
    "So, the height of the tree is $\\log n$. The height of the tree is the level of the node(s) with the longest path to the root. To get a grasp of what is going on, please refer to the figure shown below:\n",
    "\n",
    "![Recursive Tree](figures/recursive_tree.png)\n",
    "\n",
    "_Figure:Height and levels of a binary tree_\n",
    "\n",
    "\n",
    "> $\\textcolor{#FFC0D9}{\\Longrightarrow}$ The <span style=\"background-color: #F9F9E0;\">**level**</span> of a node is its distance (each edge counts as 1) to the root node. So the root node has level 0, its direct children have level 1 etc - [link](https://qr.ae/psjnbi). For binary trees, the number of levels is given by $\\log n + 1$.\n",
    "\n",
    "> $\\textcolor{#FFC0D9}{\\Longrightarrow}$ The <span style=\"background-color: #F9F9E0;\">**height**</span> of the tree is the level of the node(s) with the longest path to the root. Stated differently, the height is the maximum of all levels - [link](https://qr.ae/psjnbi). For binary trees, the height is given by $\\log n$.\n"
   ]
  }
 ],
 "metadata": {
  "kernelspec": {
   "display_name": "torch-gpu",
   "language": "python",
   "name": "python3"
  },
  "language_info": {
   "codemirror_mode": {
    "name": "ipython",
    "version": 3
   },
   "file_extension": ".py",
   "mimetype": "text/x-python",
   "name": "python",
   "nbconvert_exporter": "python",
   "pygments_lexer": "ipython3",
   "version": "3.10.12"
  }
 },
 "nbformat": 4,
 "nbformat_minor": 2
}