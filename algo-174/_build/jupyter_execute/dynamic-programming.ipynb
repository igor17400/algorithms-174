{
 "cells": [
  {
   "cell_type": "markdown",
   "metadata": {},
   "source": [
    "# Dynamic Programming\n",
    "\n",
    "> $\\textcolor{#FFC0D9}{\\Longrightarrow}$ The following section uses the book {cite}`clrs`, and the tutorials {cite}`geeksforgeeks_01knapsack, neetcode_advanced_algorithms, stackademic_knapsack` as a reference.\n",
    "\n",
    "A dynamic-programming algorithm solves each subproblem just once and then saves its answer in a table, thereby avoiding the work of recomputing the answer every time it solves each subproblem. Dynamic programming applies when the subproblems overlap, that is, when subproblems share subsubproblems. In this context, \n",
    "<span style=\"background-color: #F9F9E0;\">a divide-and-conquer algorithm does more work than necessary</span>, repeatedly solving the common subproblems. When developing a dynamic-programming algorithm, we follow a sequence of four steps:\n",
    "1. Characterize the structure of an optimal solution\n",
    "2. Recursively define the value of an optimal solution\n",
    "3. Compute the value of an optimal solution, typically in a bottom-up fashion\n",
    "4. Construct an optimal solution from computed information\n",
    "\n",
    "Solving the problem initially using divide and conquer is not a bad idea, considering that we optimize the code logic afterwards."
   ]
  },
  {
   "cell_type": "markdown",
   "metadata": {},
   "source": [
    "## 0/1 Knapsack\n",
    "\n",
    "**Example:** Imagine we are going to the supermarket, and we want to buy a selection of products to take with us to the park. We have only one backpack with a certain capacity, and we want to maximize the total value of the products we can fit into our backpack. The condition here is that we can only choose one product of each type.\n",
    "\n",
    "We enter a supermarket with a backpack that has a capacity of $ m = 50 $ units. There are $ n = 3 $ products available:\n",
    "- Product 1: cost $ c_1 = 60 $, weight $ w_1 = 10 $\n",
    "- Product 2: cost $ c_2 = 100 $, weight $ w_2 = 20 $\n",
    "- Product 3: cost $ c_3 = 120 $, weight $ w_3 = 30 $\n",
    "\n",
    "The goal is to determine the maximum value of the backpack when products are not allowed to be fractioned. In this example, we should take Product 2 and Product 3 to maximize the total value. Thus, the total value would be 220.\n",
    "\n",
    "## Algorithms\n",
    "\n",
    "There are several methods to solve the knapsack problem. With that in mind, let's demonstrate some algorithms and illustrate each using the following:\n",
    "- $weights = [1, 2, 3]$\n",
    "- $values = [6, 10, 12]$\n",
    "- $capacity = 5$\n",
    "\n",
    "### Naive Recursive Algorithm\n",
    "\n",
    "> $\\textcolor{#FFC0D9}{\\Longrightarrow}$ Time Complexity of $O(2^n)$ | Space Complexity of $O(n)$, where $n$ is the number of items\n"
   ]
  },
  {
   "cell_type": "code",
   "execution_count": 1,
   "metadata": {},
   "outputs": [
    {
     "name": "stdout",
     "output_type": "stream",
     "text": [
      "Answer:  22\n"
     ]
    }
   ],
   "source": [
    "def knapsack_helper(level, capacity, weights, values):\n",
    "    if level == len(values):\n",
    "        return 0\n",
    "\n",
    "    # Exclude the item, as including it would exceed the capacity of our backpack.\n",
    "    if weights[level] > capacity:\n",
    "        return knapsack_helper(level + 1, capacity, weights, values)\n",
    "\n",
    "    profit_with = values[level] + knapsack_helper(\n",
    "        level + 1, capacity - weights[level], weights, values\n",
    "    )\n",
    "    profit_without = knapsack_helper(level + 1, capacity, weights, values)\n",
    "\n",
    "    return max(profit_with, profit_without)\n",
    "\n",
    "\n",
    "def knapsack_naive(capacity, weights, values):\n",
    "    return knapsack_helper(0, capacity, weights, values)\n",
    "\n",
    "\n",
    "# Example usage:\n",
    "weights = [1, 2, 3]\n",
    "values = [6, 10, 12]\n",
    "capacity = 5\n",
    "print(\"Answer: \", knapsack_naive(capacity, weights, values))"
   ]
  },
  {
   "cell_type": "markdown",
   "metadata": {},
   "source": [
    "### Memoization Algorithm\n",
    "\n",
    "> $\\textcolor{#FFC0D9}{\\Longrightarrow}$ Time Complexity of $O(n \\cdot W)$ | Space Complexity of $O(n \\cdot W)$, where $W$ is the knapsack capacity and $n$ the number of items\n",
    "\n",
    "Memoization is an optimization technique used primarily to speed up computer programs by storing the results of expensive function calls and reusing them when the same inputs occur again. This avoids the need to recompute results for the same inputs, significantly improving the time complexity in many cases. \n",
    "\n",
    "#### Key Concepts of Memoization\n",
    "\n",
    "1. **Cache Storage:**\n",
    "   Memoization involves creating a cache (typically a dictionary or array) where the results of function calls are stored. The cache keys are the function arguments, and the cache values are the computed results.\n",
    "\n",
    "2. **Function Modification:**\n",
    "   The original function is modified to first check if the result for a given input is already in the cache. If it is, the cached result is returned immediately, bypassing the computation. If not, the function computes the result, stores it in the cache, and then returns it.\n",
    "\n",
    "3. **Time Complexity Improvement:**\n",
    "   By avoiding redundant calculations, memoization can transform algorithms with exponential time complexity into those with polynomial time complexity. This is particularly effective in dynamic programming, where overlapping subproblems are common.\n",
    "\n",
    "#### Steps to Implement Memoization\n",
    "\n",
    "1. **Identify the Overlapping Subproblems:**\n",
    "   Determine the parts of the algorithm where the same calculations are repeated multiple times.\n",
    "\n",
    "2. **Create a Cache:**\n",
    "   Initialize a data structure to store the results of these subproblems. A dictionary is commonly used for its efficient look-up time.\n",
    "\n",
    "3. **Modify the Function:**\n",
    "   Before performing any calculation, the function should check if the result is already in the cache. If it is, return the cached result. If not, compute the result, store it in the cache, and then return it.\n",
    "\n",
    "\n",
    "This optimizes the naive approach using a <span style=\"background-color: #F9F9E0;\">memoization technique</span>, significantly improving the time complexity to $O(n \\cdot m)$.\n"
   ]
  },
  {
   "cell_type": "code",
   "execution_count": 2,
   "metadata": {},
   "outputs": [
    {
     "name": "stdout",
     "output_type": "stream",
     "text": [
      "Answer:  22\n"
     ]
    }
   ],
   "source": [
    "def knapsack_helper_memo(level, capacity, weights, values, memo):\n",
    "    if level == len(values):\n",
    "        return 0\n",
    "\n",
    "    if (level, capacity) in memo:\n",
    "        return memo[(level, capacity)]\n",
    "\n",
    "    # Exclude the item, as including it would exceed the capacity of our backpack.\n",
    "    if weights[level] > capacity:\n",
    "        memo[(level, capacity)] = knapsack_helper_memo(\n",
    "            level + 1, capacity, weights, values, memo\n",
    "        )\n",
    "        return memo[(level, capacity)]\n",
    "\n",
    "    profit_with = values[level] + knapsack_helper_memo(\n",
    "        level + 1, capacity - weights[level], weights, values, memo\n",
    "    )\n",
    "    profit_without = knapsack_helper_memo(level + 1, capacity, weights, values, memo)\n",
    "\n",
    "    memo[(level, capacity)] = max(profit_with, profit_without)\n",
    "    return memo[(level, capacity)]\n",
    "\n",
    "\n",
    "def knapsack_memo(capacity, weights, values):\n",
    "    memo = {}\n",
    "    return knapsack_helper_memo(0, capacity, weights, values, memo)\n",
    "\n",
    "\n",
    "# Example usage:\n",
    "weights = [1, 2, 3]\n",
    "values = [6, 10, 12]\n",
    "capacity = 5\n",
    "print(\"Answer: \", knapsack_memo(capacity, weights, values))"
   ]
  },
  {
   "cell_type": "markdown",
   "metadata": {},
   "source": [
    "### Dynamic Programming Algorithm\n",
    "\n",
    "> $\\textcolor{#FFC0D9}{\\Longrightarrow}$ Time Complexity of $O(n \\cdot W)$ | Space Complexity of $O(n \\cdot W)$, where $W$ is the knapsack capacity and $n$ the number of items\n",
    "\n",
    "This approach uses a 2D array to compute the solution iteratively, also achieving a time complexity of $O(n \\cdot m)$.\n",
    "\n",
    "The table in Figure below depicts the dynamic programming table for a knapsack problem with weights [1, 2, 3], values [6, 10, 12], and a capacity of 5. In this table:\n",
    "- The rows represent the index of items, including a row for no items (index 0, 1, or 2).\n",
    "- The columns correspond to knapsack capacities ranging from 0 to the maximum capacity.\n",
    "- Each cell $dp[i][w]$ shows the maximum profit that can be obtained using the first $i$ items with a knapsack capacity of $w$.\n",
    "\n",
    ":::{figure-md} knapsack-dp\n",
    "<img src=\"./figures/knapsack-dp.png\" alt=\"fishy\" class=\"mb-1\" width=\"400px\">\n",
    "\n",
    "Dynamic programming table for the 0/1 Knapsack problem with weights [1, 2, 3], values [6, 10, 12], and capacity of 5. Each cell $dp[i][m]$ represents the maximum profit for the first $i$ items with a capacity $m = 5$\n",
    ":::"
   ]
  },
  {
   "cell_type": "code",
   "execution_count": 3,
   "metadata": {},
   "outputs": [
    {
     "name": "stdout",
     "output_type": "stream",
     "text": [
      "The dp arrray:  [[0, 6, 6, 6, 6, 6], [0, 6, 10, 16, 16, 16], [0, 6, 10, 16, 18, 22]]\n",
      "Answer:  22\n"
     ]
    }
   ],
   "source": [
    "def knapsack_dp(values, weights, capacity):\n",
    "    N = len(values)\n",
    "    W = capacity\n",
    "    dp = [[0] * (W + 1) for _ in range(N)]\n",
    "\n",
    "    # Fill the first row based on the first item's weight and value\n",
    "    for c in range(W + 1):\n",
    "        if weights[0] <= c:\n",
    "            dp[0][c] = values[0]\n",
    "\n",
    "    for i in range(1, N):\n",
    "        for c in range(1, W + 1):\n",
    "            skip = dp[i - 1][c]\n",
    "            include = 0\n",
    "            if c >= weights[i]:\n",
    "                include = values[i] + dp[i - 1][c - weights[i]]\n",
    "            dp[i][c] = max(include, skip)\n",
    "\n",
    "    print(\"The dp arrray: \", dp)\n",
    "    return dp[N - 1][W]\n",
    "\n",
    "\n",
    "# Example usage:\n",
    "weights = [1, 2, 3]\n",
    "values = [6, 10, 12]\n",
    "capacity = 5\n",
    "print(\"Answer: \", knapsack_dp(values, weights, capacity))"
   ]
  },
  {
   "cell_type": "markdown",
   "metadata": {},
   "source": [
    "#### Animation for DP approach\n",
    "\n",
    "For a step by step animation on how the dynamic solution for the 0/1 knapsack problem please refer to the slides below\n",
    "\n",
    "<iframe src=\"https://docs.google.com/presentation/d/e/2PACX-1vR7ODtgf40VbvLtTd61B5_RtEtYDdmOffHlm7gz5DZpag2O4QwODrz-VId1LZTaaP6wWy0KPSn8TyHX/embed?start=false&loop=false&delayms=5000\" frameborder=\"0\" width=\"820\" height=\"500\" allowfullscreen=\"true\" mozallowfullscreen=\"true\" webkitallowfullscreen=\"true\"></iframe>"
   ]
  },
  {
   "cell_type": "markdown",
   "metadata": {},
   "source": [
    "## Unbounded Knapsack\n",
    "\n",
    "The unbounded knapsack problem is a variation of the classic 0/1 knapsack problem where you can use each item an <span style=\"background-color: #F9F9E0;\">unlimited number of times</span>. \n",
    "\n",
    "Given a set of items, each with a weight and a value, the goal is to determine the maximum value that can be obtained by putting items into a knapsack with a given capacity, with the additional constraint that an item can be chosen multiple times.\n",
    "\n",
    "### Problem Statement\n",
    "\n",
    "- **Input**:\n",
    "  - A list of item weights: $weights = [w_1, w_2, \\ldots, w_n]$\n",
    "  - A list of item values: $values = [v_1, v_2, \\ldots, v_n]$\n",
    "  - The capacity of the knapsack: $capacity$\n",
    "  \n",
    "- **Output**:\n",
    "  - The maximum value that can be achieved with the given capacity, allowing multiple occurrences of each item."
   ]
  },
  {
   "cell_type": "markdown",
   "metadata": {},
   "source": [
    "### Algorithms\n",
    "\n",
    "Let's consider an example with the following inputs:\n",
    "\n",
    "- $weights = [1, 2, 3]$\n",
    "- $values = [6, 10, 12]$\n",
    "- $capacity = 5$\n",
    "\n",
    "We need to find the maximum value that can be achieved with a knapsack capacity of `5` using the items multiple times.\n",
    "\n",
    "\n",
    "#### Naive Recursive approach\n",
    "\n",
    "> $\\textcolor{#FFC0D9}{\\Longrightarrow}$ Time Complexity of $O(2^n)$ | Space Complexity of $O(n \\cdot W)$, where $W$ is the knapsack capacity and $n$ the number of items"
   ]
  },
  {
   "cell_type": "code",
   "execution_count": 4,
   "metadata": {},
   "outputs": [
    {
     "name": "stdout",
     "output_type": "stream",
     "text": [
      "Answer:  30\n"
     ]
    }
   ],
   "source": [
    "def unbound_knapsack(level, values, weights, capacity):\n",
    "    if level == len(values) or capacity <= 0:\n",
    "        return 0\n",
    "\n",
    "    if weights[level] > capacity:\n",
    "        return unbound_knapsack(level + 1, values, weights, capacity)\n",
    "\n",
    "    # We're deciding to add the element [0]\n",
    "    profit_with = values[level] + unbound_knapsack(\n",
    "        level, values, weights, capacity - weights[level]\n",
    "    )\n",
    "\n",
    "    # We're deciding to NOT add the element [0]\n",
    "    profit_without = unbound_knapsack(level + 1, values, weights, capacity)\n",
    "\n",
    "    # Choose which one retrieves the biggest value\n",
    "    return max(profit_with, profit_without)\n",
    "\n",
    "\n",
    "def unbound_knapsack_helper(values, weights, capacity):\n",
    "    return unbound_knapsack(level=0, values=values, weights=weights, capacity=capacity)\n",
    "\n",
    "\n",
    "# Example usage:\n",
    "weights = [1, 2, 3]\n",
    "values = [6, 10, 12]\n",
    "capacity = 5\n",
    "print(\"Answer: \", unbound_knapsack_helper(values, weights, capacity))"
   ]
  },
  {
   "cell_type": "markdown",
   "metadata": {},
   "source": [
    "#### Memoization\n",
    "\n",
    "> $\\textcolor{#FFC0D9}{\\Longrightarrow}$ Time Complexity of $O(n \\cdot W)$ | Space Complexity of $O(n \\cdot W)$, where $W$ is the knapsack capacity and $n$ the number of items\n",
    "\n",
    "As explained before, memoization can help us to optimize our problem. Let's apply it to our unbound knapsack recursive algorithm."
   ]
  },
  {
   "cell_type": "code",
   "execution_count": 5,
   "metadata": {},
   "outputs": [
    {
     "name": "stdout",
     "output_type": "stream",
     "text": [
      "Answer:  30\n"
     ]
    }
   ],
   "source": [
    "def unbound_knapsack_memo(level, values, weights, capacity, memo):\n",
    "    if level == len(values) or capacity <= 0:\n",
    "        return 0\n",
    "\n",
    "    if (level, capacity) in memo:\n",
    "        return memo[(level, capacity)]\n",
    "\n",
    "    if weights[level] > capacity:\n",
    "        return unbound_knapsack_memo(level + 1, values, weights, capacity, memo)\n",
    "\n",
    "    # We're deciding to add the element [0]\n",
    "    profit_with = values[level] + unbound_knapsack_memo(\n",
    "        level, values, weights, capacity - weights[level], memo\n",
    "    )\n",
    "\n",
    "    # We're deciding to NOT add the element [0]\n",
    "    profit_without = unbound_knapsack_memo(level + 1, values, weights, capacity, memo)\n",
    "\n",
    "    # Choose which one retrieves the biggest value\n",
    "    profit = max(profit_with, profit_without)\n",
    "\n",
    "    memo[(level, capacity)] = profit\n",
    "    return profit\n",
    "\n",
    "\n",
    "def unbound_knapsack_memo_helper(values, weights, capacity):\n",
    "    memo = {}\n",
    "    return unbound_knapsack_memo(\n",
    "        level=0, values=values, weights=weights, capacity=capacity, memo=memo\n",
    "    )\n",
    "\n",
    "\n",
    "# Example usage:\n",
    "weights = [1, 2, 3]\n",
    "values = [6, 10, 12]\n",
    "capacity = 5\n",
    "print(\"Answer: \", unbound_knapsack_memo_helper(values, weights, capacity))"
   ]
  },
  {
   "cell_type": "markdown",
   "metadata": {},
   "source": [
    "\n",
    "#### Dynamic Programming\n",
    "\n",
    "> $\\textcolor{#FFC0D9}{\\Longrightarrow}$ Time Complexity of $O(n \\cdot W)$ | Space Complexity of $O(W)$, where $W$ is the knapsack capacity and $n$ the number of items\n",
    "\n",
    "To solve the unbounded knapsack problem, dynamic programming is often used. The idea is to build a solution iteratively using previously computed results.\n",
    "\n",
    "1. **Initialization**:\n",
    "   - Create a table `dp` where `dp[i]` will store the maximum value achievable with knapsack capacity `i`.\n",
    "\n",
    "2. **Iterative Solution**:\n",
    "   - Iterate through all capacities from `0` to `capacity`.\n",
    "   - For each capacity, iterate through all items to check if it can be included in the current capacity. Update the `dp` table accordingly.\n",
    "\n",
    "The dynamic programming formula for the unbounded knapsack problem is:\n",
    "\n",
    "$$ dp[i] = \\max(dp[i], dp[i - w_j] + v_j) $$\n",
    "\n",
    "where `w_j` is the weight of the item and `v_j` is the value of the item."
   ]
  },
  {
   "cell_type": "code",
   "execution_count": 6,
   "metadata": {},
   "outputs": [
    {
     "name": "stdout",
     "output_type": "stream",
     "text": [
      "The dp array: [[0, 6, 12, 18, 24, 30], [0, 6, 12, 18, 24, 30], [0, 6, 12, 18, 24, 30]]\n",
      "Answer:  30\n"
     ]
    }
   ],
   "source": [
    "def unbound_knapsack_dp(values, weights, capacity):\n",
    "    N, W = len(values), capacity + 1\n",
    "    dp = [[0] * W for _ in range(N)]\n",
    "\n",
    "  # Initialize for boundary conditions\n",
    "    for _capacity in range(W):\n",
    "        dp[0][_capacity] = (_capacity // weights[0]) * values[0]\n",
    "\n",
    "    for i in range(1, N):\n",
    "        for _capacity in range(W):\n",
    "            profit_without = dp[i - 1][_capacity]  # profit without including item i\n",
    "            profit_with = 0\n",
    "            if _capacity >= weights[i]:  # profit including item i\n",
    "                profit_with = values[i] + dp[i][_capacity - weights[i]]\n",
    "            dp[i][_capacity] = max(profit_without, profit_with)\n",
    "\n",
    "    print(f\"The dp array: {dp}\")\n",
    "    return dp[N - 1][W - 1]\n",
    "\n",
    "\n",
    "# Example usage:\n",
    "weights = [1, 2, 3]\n",
    "values = [6, 10, 12]\n",
    "capacity = 5\n",
    "print(\"Answer: \", unbound_knapsack_dp(values, weights, capacity))"
   ]
  },
  {
   "cell_type": "markdown",
   "metadata": {},
   "source": [
    "<style>\n",
    "table tr:hover {\n",
    "    background-color: #FFC0D9 !important;\n",
    "}\n",
    "</style>\n",
    "\n",
    "\n",
    "### Complexity Table\n",
    "\n",
    "| Knapsack Type       | Solution Type                 | Time Complexity         | Space Complexity         |\n",
    "|---------------------|-------------------------------|-------------------------|--------------------------|\n",
    "| 0/1 Knapsack        | Recursive Solution            | $O(2^n)$                | $O(n)$                   |\n",
    "| 0/1 Knapsack        | Memoization Recursive Solution| $O(n \\cdot W)$          | $O(n \\cdot W)$           |\n",
    "| 0/1 Knapsack        | DP Solution                   | $O(n \\cdot W)$          | $O(n \\cdot W)$           |\n",
    "| Unbounded Knapsack  | Recursive Solution            | $O(2^n)$                | $O(n)$                   |\n",
    "| Unbounded Knapsack  | Memoization Recursive Solution| $O(n \\cdot W)$          | $O(n \\cdot W)$           |\n",
    "| Unbounded Knapsack  | DP Solution                   | $O(n \\cdot W)$          | $O(W)$                   |\n"
   ]
  }
 ],
 "metadata": {
  "kernelspec": {
   "display_name": "torch-gpu",
   "language": "python",
   "name": "python3"
  },
  "language_info": {
   "codemirror_mode": {
    "name": "ipython",
    "version": 3
   },
   "file_extension": ".py",
   "mimetype": "text/x-python",
   "name": "python",
   "nbconvert_exporter": "python",
   "pygments_lexer": "ipython3",
   "version": "3.10.12"
  }
 },
 "nbformat": 4,
 "nbformat_minor": 2
}